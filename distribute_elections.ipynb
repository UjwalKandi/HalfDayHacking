{
  "nbformat": 4,
  "nbformat_minor": 0,
  "metadata": {
    "kernelspec": {
      "display_name": "Python 3",
      "name": "python3",
      "language": "python"
    },
    "language_info": {
      "mimetype": "text/x-python",
      "nbconvert_exporter": "python",
      "name": "python",
      "file_extension": ".py",
      "version": "3.7.6",
      "pygments_lexer": "ipython3",
      "codemirror_mode": {
        "version": 3,
        "name": "ipython"
      }
    },
    "celltoolbar": "Edit Metadata",
    "colab": {
      "name": "distribute_elections.ipynb",
      "provenance": []
    }
  },
  "cells": [
    {
      "cell_type": "markdown",
      "metadata": {
        "id": "-RopLrKRqpLw"
      },
      "source": [
        "# Predicting Elections"
      ]
    },
    {
      "cell_type": "markdown",
      "metadata": {
        "id": "azy8V7bAqpL8"
      },
      "source": [
        "## PART 1: A Simple Election Model\n",
        "\n",
        "Let us import data that contains a table of probabilities that PredictWise made on October 2, 2012 for the US presidential elections. PredictWise aggregated polling data and, for each state, estimated the probability that Obama or Romney would win. We import the required libraries first."
      ]
    },
    {
      "cell_type": "code",
      "metadata": {
        "id": "mVh06fy3qpMB"
      },
      "source": [
        "%matplotlib inline\n",
        "import numpy as np\n",
        "import matplotlib.pyplot as plt"
      ],
      "execution_count": 1,
      "outputs": []
    },
    {
      "cell_type": "code",
      "metadata": {
        "colab": {
          "base_uri": "https://localhost:8080/"
        },
        "id": "TcLyPPDFq0X7",
        "outputId": "12ce23c0-584d-46e7-8a5a-318e17a4cd3c"
      },
      "source": [
        "!wget https://raw.githubusercontent.com/bitanb1999/HalfDayHacking/main/data/predictwise.csv"
      ],
      "execution_count": 2,
      "outputs": [
        {
          "output_type": "stream",
          "text": [
            "--2020-12-26 06:11:45--  https://raw.githubusercontent.com/bitanb1999/HalfDayHacking/main/data/predictwise.csv\n",
            "Resolving raw.githubusercontent.com (raw.githubusercontent.com)... 151.101.0.133, 151.101.64.133, 151.101.128.133, ...\n",
            "Connecting to raw.githubusercontent.com (raw.githubusercontent.com)|151.101.0.133|:443... connected.\n",
            "HTTP request sent, awaiting response... 200 OK\n",
            "Length: 1365 (1.3K) [text/plain]\n",
            "Saving to: ‘predictwise.csv’\n",
            "\n",
            "predictwise.csv     100%[===================>]   1.33K  --.-KB/s    in 0s      \n",
            "\n",
            "2020-12-26 06:11:45 (55.2 MB/s) - ‘predictwise.csv’ saved [1365/1365]\n",
            "\n"
          ],
          "name": "stdout"
        }
      ]
    },
    {
      "cell_type": "code",
      "metadata": {
        "id": "uSbZUMreqpMC"
      },
      "source": [
        "import pandas as pd # imports a library to handle data as dataframe"
      ],
      "execution_count": 3,
      "outputs": []
    },
    {
      "cell_type": "code",
      "metadata": {
        "colab": {
          "base_uri": "https://localhost:8080/",
          "height": 373
        },
        "id": "DWtx9hbAqpMC",
        "outputId": "162f0140-24b1-444d-8f1b-d19118a6f939"
      },
      "source": [
        "predictwise = pd.read_csv('predictwise.csv').set_index('States')\n",
        "predictwise.head(10)"
      ],
      "execution_count": 9,
      "outputs": [
        {
          "output_type": "execute_result",
          "data": {
            "text/html": [
              "<div>\n",
              "<style scoped>\n",
              "    .dataframe tbody tr th:only-of-type {\n",
              "        vertical-align: middle;\n",
              "    }\n",
              "\n",
              "    .dataframe tbody tr th {\n",
              "        vertical-align: top;\n",
              "    }\n",
              "\n",
              "    .dataframe thead th {\n",
              "        text-align: right;\n",
              "    }\n",
              "</style>\n",
              "<table border=\"1\" class=\"dataframe\">\n",
              "  <thead>\n",
              "    <tr style=\"text-align: right;\">\n",
              "      <th></th>\n",
              "      <th>Obama</th>\n",
              "      <th>Romney</th>\n",
              "      <th>Votes</th>\n",
              "    </tr>\n",
              "    <tr>\n",
              "      <th>States</th>\n",
              "      <th></th>\n",
              "      <th></th>\n",
              "      <th></th>\n",
              "    </tr>\n",
              "  </thead>\n",
              "  <tbody>\n",
              "    <tr>\n",
              "      <th>Alabama</th>\n",
              "      <td>0.000</td>\n",
              "      <td>1.000</td>\n",
              "      <td>9</td>\n",
              "    </tr>\n",
              "    <tr>\n",
              "      <th>Alaska</th>\n",
              "      <td>0.000</td>\n",
              "      <td>1.000</td>\n",
              "      <td>3</td>\n",
              "    </tr>\n",
              "    <tr>\n",
              "      <th>Arizona</th>\n",
              "      <td>0.062</td>\n",
              "      <td>0.938</td>\n",
              "      <td>11</td>\n",
              "    </tr>\n",
              "    <tr>\n",
              "      <th>Arkansas</th>\n",
              "      <td>0.000</td>\n",
              "      <td>1.000</td>\n",
              "      <td>6</td>\n",
              "    </tr>\n",
              "    <tr>\n",
              "      <th>California</th>\n",
              "      <td>1.000</td>\n",
              "      <td>0.000</td>\n",
              "      <td>55</td>\n",
              "    </tr>\n",
              "    <tr>\n",
              "      <th>Colorado</th>\n",
              "      <td>0.807</td>\n",
              "      <td>0.193</td>\n",
              "      <td>9</td>\n",
              "    </tr>\n",
              "    <tr>\n",
              "      <th>Connecticut</th>\n",
              "      <td>1.000</td>\n",
              "      <td>0.000</td>\n",
              "      <td>7</td>\n",
              "    </tr>\n",
              "    <tr>\n",
              "      <th>Delaware</th>\n",
              "      <td>1.000</td>\n",
              "      <td>0.000</td>\n",
              "      <td>3</td>\n",
              "    </tr>\n",
              "    <tr>\n",
              "      <th>District of Columbia</th>\n",
              "      <td>1.000</td>\n",
              "      <td>0.000</td>\n",
              "      <td>3</td>\n",
              "    </tr>\n",
              "    <tr>\n",
              "      <th>Florida</th>\n",
              "      <td>0.720</td>\n",
              "      <td>0.280</td>\n",
              "      <td>29</td>\n",
              "    </tr>\n",
              "  </tbody>\n",
              "</table>\n",
              "</div>"
            ],
            "text/plain": [
              "                      Obama  Romney  Votes\n",
              "States                                    \n",
              "Alabama               0.000   1.000      9\n",
              "Alaska                0.000   1.000      3\n",
              "Arizona               0.062   0.938     11\n",
              "Arkansas              0.000   1.000      6\n",
              "California            1.000   0.000     55\n",
              "Colorado              0.807   0.193      9\n",
              "Connecticut           1.000   0.000      7\n",
              "Delaware              1.000   0.000      3\n",
              "District of Columbia  1.000   0.000      3\n",
              "Florida               0.720   0.280     29"
            ]
          },
          "metadata": {
            "tags": []
          },
          "execution_count": 9
        }
      ]
    },
    {
      "cell_type": "markdown",
      "metadata": {
        "id": "IEOui4tCqpMD"
      },
      "source": [
        "Each row is the probability predicted by Predictwise that Romney or Obama would win a state. The votes column lists the number of electoral college votes in that state.\n",
        "\n",
        "In the case of tossed coins, even though we have a model which says that the probability of heads is 0.5, there are sequences of flips in which more or less than half the flips were heads. Similarly, here, if the probability of Romney winning in Arizona is 0.938, it means that if somehow, there were 1000 replications with an election each, Romney would win in 938 of those Arizonas **on the average** across the replications. And there would be some samples with Romney winning more, and some with less. We can run these **simulated** universes on a computer though not in real life.\n",
        "\n",
        "How did these probabilities come about. It does not matter. I might have fit a deep neural network, a bayesian model, or just asked people to bet (thats what predictwise did). Its all just a model."
      ]
    },
    {
      "cell_type": "markdown",
      "metadata": {
        "id": "3kZ-r0SrqpMD"
      },
      "source": [
        "### Single simulation for a particular state\n",
        "\n",
        "Let us consider the sixth state, `Colorado` and do one random simulation for this state. We use the function `np.random.uniform` to draw 1 sample from a uniform distribution of interval \\[a,b) with an equal probability. The default values of a and b is \\[0,1). Documentation about the function [here](https://docs.scipy.org/doc/numpy-1.15.0/reference/generated/numpy.random.uniform.html)"
      ]
    },
    {
      "cell_type": "markdown",
      "metadata": {
        "id": "p7DpQJM8qpMD"
      },
      "source": [
        "#### Uniform Distribution (in numpy)\n",
        "\n",
        "`np.random.uniform` gives you a random number between 0 and 1, uniformly. In other words, the number is equally likely to be between 0 and 0.1, 0.1 and 0.2, and so on. This is a very intuitive idea, but it is formalized by the notion of the **Uniform Distribution**.\n",
        "\n",
        "We then say:\n",
        "\n",
        "$$X \\sim Uniform([0,1),$$\n",
        "\n",
        "which is to be read as **X has distribution Uniform([0,1])**. "
      ]
    },
    {
      "cell_type": "code",
      "metadata": {
        "colab": {
          "base_uri": "https://localhost:8080/"
        },
        "id": "R_UXfP4QqpME",
        "outputId": "f95885d1-9e45-40fe-fcdc-f9a9aef554d8"
      },
      "source": [
        "print(predictwise.loc['Colorado'])\n",
        "sim = np.random.uniform()\n",
        "print(sim)    "
      ],
      "execution_count": 16,
      "outputs": [
        {
          "output_type": "stream",
          "text": [
            "Obama     0.807\n",
            "Romney    0.193\n",
            "Votes     9.000\n",
            "Name: Colorado, dtype: float64\n",
            "0.7078697456933677\n"
          ],
          "name": "stdout"
        }
      ]
    },
    {
      "cell_type": "markdown",
      "metadata": {
        "id": "c0-LNO_KqpME"
      },
      "source": [
        "Obama would would win Colorado for this particular simulation if his probability is higher than the random uniform number between 0 and 1. With and Obama probability of 0.807, Obama wins in this particular case."
      ]
    },
    {
      "cell_type": "code",
      "metadata": {
        "colab": {
          "base_uri": "https://localhost:8080/"
        },
        "id": "Ry3ss8DjqpME",
        "outputId": "f3c952e3-1518-4a81-c164-7dfda948f693"
      },
      "source": [
        "obama_win = (predictwise.loc['Colorado'].Obama > sim)*1\n",
        "print(obama_win)"
      ],
      "execution_count": 26,
      "outputs": [
        {
          "output_type": "stream",
          "text": [
            "1\n"
          ],
          "name": "stdout"
        }
      ]
    },
    {
      "cell_type": "markdown",
      "metadata": {
        "id": "eNkggHsoqpMF"
      },
      "source": [
        "Run this cell many times:"
      ]
    },
    {
      "cell_type": "code",
      "metadata": {
        "colab": {
          "base_uri": "https://localhost:8080/"
        },
        "id": "OwE1zi3BqpMF",
        "outputId": "9af80f2c-84cb-4566-9cad-04c8114521ec"
      },
      "source": [
        "obama_win = (predictwise.loc['Colorado'].Obama > np.random.uniform())*1\n",
        "print(obama_win)"
      ],
      "execution_count": 27,
      "outputs": [
        {
          "output_type": "stream",
          "text": [
            "1\n"
          ],
          "name": "stdout"
        }
      ]
    },
    {
      "cell_type": "markdown",
      "metadata": {
        "id": "F9Ix-bzoqpMF"
      },
      "source": [
        "Using `np.random.uniform` and comparing it to a probability threshold to get a 0 or 1 - this is nothing but a **Bernoulli Random Variable** for Colorado state.\n",
        "\n",
        "A Bernoulli Random Variable is the simplest kind of random variable. It can take on two values,\n",
        "1 and 0. It takes on a 1 if an experiment with probability *p* resulted in success and a 0 otherwise. A coin toss is another example of a Bernoulli Random Variable.  "
      ]
    },
    {
      "cell_type": "markdown",
      "metadata": {
        "id": "YePwIRdwqpMG"
      },
      "source": [
        "What assigning the vote to Obama when the random variable **drawn** from the Uniform distribution is less than the Predictwise probability of Obama winning (which is a Bernoulli Parameter) does for us is this: lets say we have a large number of simulations and $p_{Obama}=0.8$. Now if we draw lots of numbers between 0 and 1, uniformly, then 80\\% of the time, the random numbes drawn will be below 0.8. Thus we will now have many simulations with Obama either winning or losing, but winning about 80% of the time."
      ]
    },
    {
      "cell_type": "markdown",
      "metadata": {
        "id": "aUR_Caw5qpMG"
      },
      "source": [
        "### Multiple simulations for a particular State\n",
        "\n",
        "Now let's try and make 1000 simulations for Colorado. This is like making 1000 coin tosses with a biased coin. We expect Obama to win in about 80% of these"
      ]
    },
    {
      "cell_type": "code",
      "metadata": {
        "colab": {
          "base_uri": "https://localhost:8080/"
        },
        "id": "JrxWcSTaqpMG",
        "outputId": "96d4b0c1-0d2c-4b99-c9d3-6140dcf34ce2"
      },
      "source": [
        "print(predictwise.loc['Colorado'])\n",
        "sims = np.random.uniform(size=1000)\n",
        "print(sims[:100])"
      ],
      "execution_count": 28,
      "outputs": [
        {
          "output_type": "stream",
          "text": [
            "Obama     0.807\n",
            "Romney    0.193\n",
            "Votes     9.000\n",
            "Name: Colorado, dtype: float64\n",
            "[0.13155195 0.28439202 0.25260925 0.94914934 0.24794063 0.36267489\n",
            " 0.51949032 0.50485451 0.84232243 0.03668231 0.14551181 0.17269817\n",
            " 0.70438683 0.05467281 0.67017271 0.2256866  0.41073977 0.68772661\n",
            " 0.3006816  0.58588912 0.85254385 0.58432351 0.60026365 0.19281027\n",
            " 0.63594211 0.54761292 0.85067275 0.77320043 0.36034396 0.72131303\n",
            " 0.34391358 0.93223601 0.3371927  0.08462658 0.75035032 0.87731503\n",
            " 0.40017456 0.04617587 0.47574478 0.8712526  0.71613119 0.65157641\n",
            " 0.59100348 0.66164371 0.1695261  0.0180407  0.9496718  0.10424572\n",
            " 0.42883444 0.45660012 0.18688769 0.23093124 0.39343052 0.17945377\n",
            " 0.88242731 0.22331559 0.86714811 0.77717465 0.58025473 0.7612505\n",
            " 0.03823016 0.15258558 0.84906967 0.8886699  0.38367986 0.80196231\n",
            " 0.92004795 0.62162515 0.81549668 0.25061461 0.96553879 0.58752883\n",
            " 0.25502744 0.16206102 0.44896815 0.66167985 0.45721284 0.03499593\n",
            " 0.37239896 0.00382031 0.54220949 0.95937395 0.4970485  0.83757369\n",
            " 0.81876989 0.21018937 0.5715558  0.47899047 0.02861633 0.47504794\n",
            " 0.92135681 0.13791914 0.40209064 0.51690783 0.04675506 0.87845673\n",
            " 0.04294206 0.94515591 0.64370291 0.01912797]\n"
          ],
          "name": "stdout"
        }
      ]
    },
    {
      "cell_type": "markdown",
      "metadata": {
        "id": "SmZwrjCVqpMG"
      },
      "source": [
        "With an Obama probability of about 0.8, This means that we can pick the simulations in which Obama wins Colorado by seeing in how many of the simulations the random number thrown is less than 0.8\n",
        "\n",
        "We are simply making use of numpy broadcasting semantics here:"
      ]
    },
    {
      "cell_type": "code",
      "metadata": {
        "colab": {
          "base_uri": "https://localhost:8080/"
        },
        "id": "YEWFlVuqqpMH",
        "outputId": "ea3348b3-b9f7-4a95-9e80-87c819e1d6e7"
      },
      "source": [
        "wins = sims < predictwise.loc['Colorado'].Obama\n",
        "wins[:100]"
      ],
      "execution_count": 29,
      "outputs": [
        {
          "output_type": "execute_result",
          "data": {
            "text/plain": [
              "array([ True,  True,  True, False,  True,  True,  True,  True, False,\n",
              "        True,  True,  True,  True,  True,  True,  True,  True,  True,\n",
              "        True,  True, False,  True,  True,  True,  True,  True, False,\n",
              "        True,  True,  True,  True, False,  True,  True,  True, False,\n",
              "        True,  True,  True, False,  True,  True,  True,  True,  True,\n",
              "        True, False,  True,  True,  True,  True,  True,  True,  True,\n",
              "       False,  True, False,  True,  True,  True,  True,  True, False,\n",
              "       False,  True,  True, False,  True, False,  True, False,  True,\n",
              "        True,  True,  True,  True,  True,  True,  True,  True,  True,\n",
              "       False,  True, False, False,  True,  True,  True,  True,  True,\n",
              "       False,  True,  True,  True,  True, False,  True, False,  True,\n",
              "        True])"
            ]
          },
          "metadata": {
            "tags": []
          },
          "execution_count": 29
        }
      ]
    },
    {
      "cell_type": "markdown",
      "metadata": {
        "id": "7WUEH2c_qpMH"
      },
      "source": [
        "This is a boolean numpy array. Summing coerces the True to 1 and False to 0 and gives us the total number of simulations.<br>"
      ]
    },
    {
      "cell_type": "code",
      "metadata": {
        "colab": {
          "base_uri": "https://localhost:8080/"
        },
        "id": "FF8VNu6zqpMH",
        "outputId": "26da3f99-60b0-45eb-85bb-a5cc3556599d"
      },
      "source": [
        "np.sum(wins)"
      ],
      "execution_count": 30,
      "outputs": [
        {
          "output_type": "execute_result",
          "data": {
            "text/plain": [
              "799"
            ]
          },
          "metadata": {
            "tags": []
          },
          "execution_count": 30
        }
      ]
    },
    {
      "cell_type": "markdown",
      "metadata": {
        "id": "UwRTXKpNqpMH"
      },
      "source": [
        "Obama wins in 81% of the simulations, roughly, in Colorado"
      ]
    },
    {
      "cell_type": "markdown",
      "metadata": {
        "hide": true,
        "id": "t4KxqutOqpMI"
      },
      "source": [
        "## Simulating the election model\n",
        "\n",
        "To do this, \n",
        "we will assume that the outcome in each state is the result of an independent coin flip whose probability of coming up Obama is given by the Predictwise state-wise win probabilities. Lets write a function `simulate_election` that uses this **predictive model** to simulate the outcome of the election given a table of probabilities.\n",
        "\n",
        "But first, what do we need to do to achieve this? We need to take the output of each simulation for a state and compare it to the predictiwise probability. Then we need to do this many times. Then we need to multiply in by the electoral votes in those states. And then sum over the states."
      ]
    },
    {
      "cell_type": "markdown",
      "metadata": {
        "id": "5LtktxdaqpMI"
      },
      "source": [
        "### Simulations on all states\n",
        "Lets do it for all the states now. Now we make 1000 simulations for all the states. We'll create 51 rows of 1000 random numbers (1000 columns) between 0 and 1 & try and see in how many votes Obama is able to gather in each simulation"
      ]
    },
    {
      "cell_type": "code",
      "metadata": {
        "jupyter": {
          "outputs_hidden": false
        },
        "colab": {
          "base_uri": "https://localhost:8080/",
          "height": 225
        },
        "id": "NiDMmVjzqpMI",
        "outputId": "7d594117-eee3-438c-9be0-5003f97ce80b"
      },
      "source": [
        "predictwise = pd.read_csv('predictwise.csv').set_index('States')\n",
        "predictwise.head()"
      ],
      "execution_count": 31,
      "outputs": [
        {
          "output_type": "execute_result",
          "data": {
            "text/html": [
              "<div>\n",
              "<style scoped>\n",
              "    .dataframe tbody tr th:only-of-type {\n",
              "        vertical-align: middle;\n",
              "    }\n",
              "\n",
              "    .dataframe tbody tr th {\n",
              "        vertical-align: top;\n",
              "    }\n",
              "\n",
              "    .dataframe thead th {\n",
              "        text-align: right;\n",
              "    }\n",
              "</style>\n",
              "<table border=\"1\" class=\"dataframe\">\n",
              "  <thead>\n",
              "    <tr style=\"text-align: right;\">\n",
              "      <th></th>\n",
              "      <th>Obama</th>\n",
              "      <th>Romney</th>\n",
              "      <th>Votes</th>\n",
              "    </tr>\n",
              "    <tr>\n",
              "      <th>States</th>\n",
              "      <th></th>\n",
              "      <th></th>\n",
              "      <th></th>\n",
              "    </tr>\n",
              "  </thead>\n",
              "  <tbody>\n",
              "    <tr>\n",
              "      <th>Alabama</th>\n",
              "      <td>0.000</td>\n",
              "      <td>1.000</td>\n",
              "      <td>9</td>\n",
              "    </tr>\n",
              "    <tr>\n",
              "      <th>Alaska</th>\n",
              "      <td>0.000</td>\n",
              "      <td>1.000</td>\n",
              "      <td>3</td>\n",
              "    </tr>\n",
              "    <tr>\n",
              "      <th>Arizona</th>\n",
              "      <td>0.062</td>\n",
              "      <td>0.938</td>\n",
              "      <td>11</td>\n",
              "    </tr>\n",
              "    <tr>\n",
              "      <th>Arkansas</th>\n",
              "      <td>0.000</td>\n",
              "      <td>1.000</td>\n",
              "      <td>6</td>\n",
              "    </tr>\n",
              "    <tr>\n",
              "      <th>California</th>\n",
              "      <td>1.000</td>\n",
              "      <td>0.000</td>\n",
              "      <td>55</td>\n",
              "    </tr>\n",
              "  </tbody>\n",
              "</table>\n",
              "</div>"
            ],
            "text/plain": [
              "            Obama  Romney  Votes\n",
              "States                          \n",
              "Alabama     0.000   1.000      9\n",
              "Alaska      0.000   1.000      3\n",
              "Arizona     0.062   0.938     11\n",
              "Arkansas    0.000   1.000      6\n",
              "California  1.000   0.000     55"
            ]
          },
          "metadata": {
            "tags": []
          },
          "execution_count": 31
        }
      ]
    },
    {
      "cell_type": "code",
      "metadata": {
        "colab": {
          "base_uri": "https://localhost:8080/"
        },
        "id": "Qa8fr2cqqpMM",
        "outputId": "bdc014b0-4964-4cb7-e826-b41c8703255f"
      },
      "source": [
        "sims = np.random.uniform(size=(51, 1000))\n",
        "print(sims.shape)\n",
        "sims"
      ],
      "execution_count": 32,
      "outputs": [
        {
          "output_type": "stream",
          "text": [
            "(51, 1000)\n"
          ],
          "name": "stdout"
        },
        {
          "output_type": "execute_result",
          "data": {
            "text/plain": [
              "array([[0.21482286, 0.18615634, 0.35423855, ..., 0.01461969, 0.89365471,\n",
              "        0.5408166 ],\n",
              "       [0.25757657, 0.51958194, 0.52930921, ..., 0.18629235, 0.05465904,\n",
              "        0.98998575],\n",
              "       [0.33066399, 0.87166289, 0.99874274, ..., 0.94548471, 0.89642676,\n",
              "        0.90362274],\n",
              "       ...,\n",
              "       [0.83447755, 0.03558218, 0.43743658, ..., 0.73725891, 0.35482802,\n",
              "        0.18721693],\n",
              "       [0.86111436, 0.94615799, 0.19698094, ..., 0.31512246, 0.9922195 ,\n",
              "        0.53043311],\n",
              "       [0.53914846, 0.47599748, 0.8999857 , ..., 0.29710779, 0.47402964,\n",
              "        0.38281263]])"
            ]
          },
          "metadata": {
            "tags": []
          },
          "execution_count": 32
        }
      ]
    },
    {
      "cell_type": "markdown",
      "metadata": {
        "id": "C5cJXk7XqpMN"
      },
      "source": [
        "Now we just need to compare each row of 1000 random numbers with the probability for that state to find how many of the simulations Obama wins:"
      ]
    },
    {
      "cell_type": "code",
      "metadata": {
        "colab": {
          "base_uri": "https://localhost:8080/",
          "height": 162
        },
        "id": "hS9kH8h7qpMO",
        "outputId": "03d2d919-54b7-4a07-d1a5-d03f84e654df"
      },
      "source": [
        "sims < predictwise.Obama.values"
      ],
      "execution_count": 33,
      "outputs": [
        {
          "output_type": "error",
          "ename": "ValueError",
          "evalue": "ignored",
          "traceback": [
            "\u001b[0;31m---------------------------------------------------------------------------\u001b[0m",
            "\u001b[0;31mValueError\u001b[0m                                Traceback (most recent call last)",
            "\u001b[0;32m<ipython-input-33-dc571aaf1282>\u001b[0m in \u001b[0;36m<module>\u001b[0;34m()\u001b[0m\n\u001b[0;32m----> 1\u001b[0;31m \u001b[0msims\u001b[0m \u001b[0;34m<\u001b[0m \u001b[0mpredictwise\u001b[0m\u001b[0;34m.\u001b[0m\u001b[0mObama\u001b[0m\u001b[0;34m.\u001b[0m\u001b[0mvalues\u001b[0m\u001b[0;34m\u001b[0m\u001b[0;34m\u001b[0m\u001b[0m\n\u001b[0m",
            "\u001b[0;31mValueError\u001b[0m: operands could not be broadcast together with shapes (51,1000) (51,) "
          ]
        }
      ]
    },
    {
      "cell_type": "markdown",
      "metadata": {
        "id": "EX8cDhp5qpMO"
      },
      "source": [
        "Doing this creates an error as the shape of **sims** and **predictwise.Obama.values** is not the same. We can use numpy.reshape to change the shape of our array"
      ]
    },
    {
      "cell_type": "markdown",
      "metadata": {
        "id": "5KDe7EaRqpMP"
      },
      "source": [
        "## Comparing simulations and numpy.reshape\n",
        "\n",
        "Reshape gives a new shape to the array without changing the data.  Detailed documentation about reshape [here](https://docs.scipy.org/doc/numpy/reference/generated/numpy.reshape.html). Let us take an example to show how reshape works"
      ]
    },
    {
      "cell_type": "code",
      "metadata": {
        "colab": {
          "base_uri": "https://localhost:8080/"
        },
        "id": "C33wltsVqpMP",
        "outputId": "e024d058-1a33-4f5b-ddae-ada5b6c0dac4"
      },
      "source": [
        "a= np.arange(6)\n",
        "print(a)\n",
        "print(a.shape)"
      ],
      "execution_count": 34,
      "outputs": [
        {
          "output_type": "stream",
          "text": [
            "[0 1 2 3 4 5]\n",
            "(6,)\n"
          ],
          "name": "stdout"
        }
      ]
    },
    {
      "cell_type": "code",
      "metadata": {
        "colab": {
          "base_uri": "https://localhost:8080/"
        },
        "id": "L_DExzRmqpMP",
        "outputId": "24ff15f7-8699-43dd-d678-514553227d8e"
      },
      "source": [
        "a.reshape(2,3)"
      ],
      "execution_count": 35,
      "outputs": [
        {
          "output_type": "execute_result",
          "data": {
            "text/plain": [
              "array([[0, 1, 2],\n",
              "       [3, 4, 5]])"
            ]
          },
          "metadata": {
            "tags": []
          },
          "execution_count": 35
        }
      ]
    },
    {
      "cell_type": "code",
      "metadata": {
        "colab": {
          "base_uri": "https://localhost:8080/"
        },
        "id": "J6QbelpgqpMQ",
        "outputId": "ec875f85-4bc9-4ea7-aa22-dc78d29e6512"
      },
      "source": [
        "print(a.reshape(-1,1))   # -1 as a parameter simply means that it is an unknown dimension and we want numpy to figure it out.\n",
        "print('New shape is: ', a.reshape(-1,1).shape)"
      ],
      "execution_count": 36,
      "outputs": [
        {
          "output_type": "stream",
          "text": [
            "[[0]\n",
            " [1]\n",
            " [2]\n",
            " [3]\n",
            " [4]\n",
            " [5]]\n",
            "New shape is:  (6, 1)\n"
          ],
          "name": "stdout"
        }
      ]
    },
    {
      "cell_type": "markdown",
      "metadata": {
        "id": "Nxnjn7VfqpMQ"
      },
      "source": [
        "If we use `reshape` now to our predictwise Obama proababilities, we get 51 rows of 100 Trues and Falses"
      ]
    },
    {
      "cell_type": "code",
      "metadata": {
        "colab": {
          "base_uri": "https://localhost:8080/"
        },
        "id": "_prCviF7qpMQ",
        "outputId": "99b84d78-c7e9-4a33-dfbb-790a734108ad"
      },
      "source": [
        "how_many_won = sims < predictwise.Obama.values.reshape(-1,1) # reshape for broadcasting\n",
        "how_many_won"
      ],
      "execution_count": 37,
      "outputs": [
        {
          "output_type": "execute_result",
          "data": {
            "text/plain": [
              "array([[False, False, False, ..., False, False, False],\n",
              "       [False, False, False, ..., False, False, False],\n",
              "       [False, False, False, ..., False, False, False],\n",
              "       ...,\n",
              "       [False, False, False, ..., False, False, False],\n",
              "       [ True, False,  True, ...,  True, False,  True],\n",
              "       [False, False, False, ..., False, False, False]])"
            ]
          },
          "metadata": {
            "tags": []
          },
          "execution_count": 37
        }
      ]
    },
    {
      "cell_type": "code",
      "metadata": {
        "colab": {
          "base_uri": "https://localhost:8080/"
        },
        "id": "wWSb_XOwqpMQ",
        "outputId": "4d8aa1be-0ff0-4a7c-8baf-adec24da6661"
      },
      "source": [
        "how_many_won.shape"
      ],
      "execution_count": 38,
      "outputs": [
        {
          "output_type": "execute_result",
          "data": {
            "text/plain": [
              "(51, 1000)"
            ]
          },
          "metadata": {
            "tags": []
          },
          "execution_count": 38
        }
      ]
    },
    {
      "cell_type": "markdown",
      "metadata": {
        "id": "RdVbDJfbqpMR"
      },
      "source": [
        "Multiply by the number of electoral Votes in each state"
      ]
    },
    {
      "cell_type": "code",
      "metadata": {
        "colab": {
          "base_uri": "https://localhost:8080/"
        },
        "id": "vGELRXTlqpMR",
        "outputId": "9448597f-206e-45d2-87a9-251854bef14a"
      },
      "source": [
        "how_many_electoral_votes = how_many_won*predictwise.Votes.values.reshape(-1,1)\n",
        "how_many_electoral_votes"
      ],
      "execution_count": 39,
      "outputs": [
        {
          "output_type": "execute_result",
          "data": {
            "text/plain": [
              "array([[ 0,  0,  0, ...,  0,  0,  0],\n",
              "       [ 0,  0,  0, ...,  0,  0,  0],\n",
              "       [ 0,  0,  0, ...,  0,  0,  0],\n",
              "       ...,\n",
              "       [ 0,  0,  0, ...,  0,  0,  0],\n",
              "       [10,  0, 10, ..., 10,  0, 10],\n",
              "       [ 0,  0,  0, ...,  0,  0,  0]])"
            ]
          },
          "metadata": {
            "tags": []
          },
          "execution_count": 39
        }
      ]
    },
    {
      "cell_type": "markdown",
      "metadata": {
        "id": "WlpuUCDfqpMR"
      },
      "source": [
        "If we sum the columns now (that is over the 50 states and DC), we get the total electoral votes in the country for Obama in each simulation"
      ]
    },
    {
      "cell_type": "code",
      "metadata": {
        "colab": {
          "base_uri": "https://localhost:8080/"
        },
        "id": "jSFJqwbtqpMR",
        "outputId": "3bfe1c1c-cdcb-44f2-acae-e42fd92c8b6a"
      },
      "source": [
        "total_electoral_votes_per_simulation = np.sum(how_many_electoral_votes, axis=0)\n",
        "total_electoral_votes_per_simulation[:20]"
      ],
      "execution_count": 40,
      "outputs": [
        {
          "output_type": "execute_result",
          "data": {
            "text/plain": [
              "array([326, 312, 310, 337, 294, 335, 337, 304, 332, 342, 331, 294, 326,\n",
              "       310, 295, 368, 314, 325, 330, 332])"
            ]
          },
          "metadata": {
            "tags": []
          },
          "execution_count": 40
        }
      ]
    },
    {
      "cell_type": "markdown",
      "metadata": {
        "id": "HpviKnN6qpMS"
      },
      "source": [
        "This is what Nate Silver and other prediction people will quote you. In How many simulations does Obama win? Well there are 538 electoral votes in the US. So you need 269 to break even. Lets compare:"
      ]
    },
    {
      "cell_type": "code",
      "metadata": {
        "colab": {
          "base_uri": "https://localhost:8080/"
        },
        "id": "alFdFIflqpMS",
        "outputId": "0654c3aa-4612-4798-c4b6-0f2b2dd5b816"
      },
      "source": [
        "np.sum(total_electoral_votes_per_simulation >= 269)"
      ],
      "execution_count": 41,
      "outputs": [
        {
          "output_type": "execute_result",
          "data": {
            "text/plain": [
              "993"
            ]
          },
          "metadata": {
            "tags": []
          },
          "execution_count": 41
        }
      ]
    },
    {
      "cell_type": "markdown",
      "metadata": {
        "id": "JPQvaaPfqpMS"
      },
      "source": [
        "Thats 993 out of 1000 simulations or a 99.3% chance!"
      ]
    },
    {
      "cell_type": "markdown",
      "metadata": {
        "id": "AVpewLUqqpMS"
      },
      "source": [
        "## Refactoring the simulation code"
      ]
    },
    {
      "cell_type": "markdown",
      "metadata": {
        "hide": true,
        "id": "63b9Mpl0qpMT"
      },
      "source": [
        "Here then is the predictive model we are playing with in short: each column simulates a single outcome from the 50 states + DC by choosing a random number between 0 and 1. Obama wins that simulation if the random number is $<$ the win probability. If he wins that simulation, we add in the electoral votes for that state, otherwise we dont. We do this `n_sim` times and return a list of total Obama electoral votes in each simulation."
      ]
    },
    {
      "cell_type": "markdown",
      "metadata": {
        "id": "JsD61d49qpMT"
      },
      "source": [
        "### Q1:  *Write a function that uses this **predictive model** to simulate the outcome of the election given a Dataframe of probabilities*.\n",
        "\n"
      ]
    },
    {
      "cell_type": "code",
      "metadata": {
        "jupyter": {
          "outputs_hidden": false
        },
        "id": "sb_UI6AfqpMT"
      },
      "source": [
        "\"\"\"\n",
        "Function\n",
        "--------\n",
        "simulate_election\n",
        "\n",
        "Inputs\n",
        "------\n",
        "model : DataFrame\n",
        "    A DataFrame summarizing an election forecast. The dataframe has 51 rows -- one for each state and DC\n",
        "    It has the following columns:\n",
        "       Obama : Forecasted probability that Obama wins the state\n",
        "       Votes : Electoral votes for the state\n",
        "    The DataFrame is indexed by state (i.e., model.index is an array of state names)\n",
        "    \n",
        "n_sim : int\n",
        "   Number of simulations to run\n",
        "   \n",
        "Returns\n",
        "-------\n",
        "results : Numpy array with n_sim elements\n",
        "   Each element stores the number of electoral college votes Obama wins in each simulation.   \n",
        "\"\"\"\n",
        "\n",
        "# your code here\n",
        "def simulate_election(model, n_sim):\n",
        "    # specifying size(x,y) creates uniform random numbers between 0 and 1 in a 2-d matrix with x rows and y columns\n",
        "    simulations = np.random.uniform(size=(51, n_sim))\n",
        "    obama_votes = (simulations < model.Obama.values.reshape(-1, 1)) * model.Votes.values.reshape(-1, 1)\n",
        "    #summing over rows gives the total electoral votes for each simulation\n",
        "    return obama_votes.sum(axis=0)"
      ],
      "execution_count": 49,
      "outputs": []
    },
    {
      "cell_type": "markdown",
      "metadata": {
        "id": "oPPx_UQ-qpMT"
      },
      "source": [
        "The following code takes the necessary probabilities for the Predictwise data, and runs 10000 simulations. If you think of this in terms of our coins, think of it as having 51 biased coins, one for each state, and tossing them 10,000 times each.\n",
        "\n",
        "We use the results to compute the number of simulations, according to this predictive model, that Obama wins the election (i.e., the probability that he receives 269 or more electoral college votes)"
      ]
    },
    {
      "cell_type": "code",
      "metadata": {
        "jupyter": {
          "outputs_hidden": false
        },
        "colab": {
          "base_uri": "https://localhost:8080/"
        },
        "id": "dwnJIUrLqpMU",
        "outputId": "5604529b-ea08-4f6e-8314-c1358c686353"
      },
      "source": [
        "result = simulate_election(predictwise, 10000)\n",
        "print(type(result))\n",
        "np.sum(result >= 269)"
      ],
      "execution_count": 50,
      "outputs": [
        {
          "output_type": "stream",
          "text": [
            "<class 'numpy.ndarray'>\n"
          ],
          "name": "stdout"
        },
        {
          "output_type": "execute_result",
          "data": {
            "text/plain": [
              "9950"
            ]
          },
          "metadata": {
            "tags": []
          },
          "execution_count": 50
        }
      ]
    },
    {
      "cell_type": "markdown",
      "metadata": {
        "id": "m47Hhr-QqpMU"
      },
      "source": [
        "There are roughly only 50 simulations in which Romney wins the election!"
      ]
    },
    {
      "cell_type": "markdown",
      "metadata": {
        "id": "0XaBwmwrqpMV"
      },
      "source": [
        "### Displaying the prediction\n",
        "\n",
        "Now, lets visualize the simulation. We will build a histogram from the result of `simulate_election`. We will **normalize** the histogram by dividing the frequency of a vote tally by the number of simulations. We'll overplot the \"victory threshold\" of 269 votes as a vertical black line and the result (Obama winning 332 votes) as a vertical red line.\n",
        "\n",
        "We also compute the number of votes at the 5th and 95th quantiles, which we call the spread, and display it (this is an estimate of the outcome's uncertainty). By 5th quantile we mean that if we ordered the number of votes Obama gets in each simulation in increasing order, the 5th quantile is the number below which 5\\% of the simulations lie. \n",
        "\n",
        "We also display the probability of an Obama victory, seeing a new feature in histograms, which is \"density\" plotting. Here we are normalizing the total frequency of the histogram to 1, to construct our notion of a probability from a large-number frquency.   "
      ]
    },
    {
      "cell_type": "code",
      "metadata": {
        "jupyter": {
          "outputs_hidden": false
        },
        "id": "is_Xy13bqpMV"
      },
      "source": [
        "def plot_simulation(simulation):\n",
        "    fig, ax = plt.subplots(figsize=(12,6))\n",
        "    ax.hist(simulation, bins=np.arange(200, 538, 1), \n",
        "             label='simulations', align='left', density=True)\n",
        "    ax.axvline(332, 0, .5, color='r', label='Actual Outcome')\n",
        "    ax.axvline(269, 0, .5, color='k', label='Victory Threshold')\n",
        "    p05 = np.percentile(simulation, 5.)\n",
        "    p95 = np.percentile(simulation, 95.)\n",
        "    iq = int(p95 - p05)\n",
        "    pwin = ((simulation >= 269).mean() * 100)\n",
        "    ax.set_title(\"Chance of Obama Victory: %0.2f%%, Spread: %d votes\" % (pwin, iq))\n",
        "    ax.legend(frameon=False, loc='upper left')\n",
        "    ax.set_xlabel(\"Obama Electoral College Votes\")\n",
        "    ax.set_ylabel(\"Probability\")\n",
        "    ax.spines['top'].set_visible(False)\n",
        "    ax.spines['right'].set_visible(False)"
      ],
      "execution_count": 51,
      "outputs": []
    },
    {
      "cell_type": "code",
      "metadata": {
        "jupyter": {
          "outputs_hidden": false
        },
        "colab": {
          "base_uri": "https://localhost:8080/",
          "height": 404
        },
        "id": "sQdRL-HWqpMW",
        "outputId": "dc48b9dd-5152-4a00-e8ce-f01744b5d3de"
      },
      "source": [
        "plot_simulation(result)"
      ],
      "execution_count": 52,
      "outputs": [
        {
          "output_type": "display_data",
          "data": {
            "image/png": "[encoded data removed]",
            "text/plain": [
              "<Figure size 864x432 with 1 Axes>"
            ]
          },
          "metadata": {
            "tags": [],
            "needs_background": "light"
          }
        }
      ]
    },
    {
      "cell_type": "markdown",
      "metadata": {
        "id": "7Fe_hmjlqpMW"
      },
      "source": [
        "The model created by combining the probabilities we obtained from Predictwise with the simulation of a biased coin flip corresponding to the win probability in each states leads us to obtain a histogram of election outcomes. We are plotting the probabilities of a prediction, so we call this distribution over outcomes the **predictive distribution**. Simulating from our model and plotting a histogram allows us to visualize this predictive distribution. In general, such a set of probabilities is called a **probability distribution** or **probability mass function**. "
      ]
    },
    {
      "cell_type": "markdown",
      "metadata": {
        "id": "Pqef-gNNqpMW"
      },
      "source": [
        "## PART 2: Estimating Probabilities"
      ]
    },
    {
      "cell_type": "markdown",
      "metadata": {
        "id": "LTZoJMiLqpMX"
      },
      "source": [
        "Now we will try to **estimate** our own win probabilities to plug into our predictive model.\n",
        "\n",
        "We will start with a simple forecast model. We will try to predict the outcome of the election based the estimated proportion of people in each state who identify with one one political party or the other.\n",
        "\n",
        "Gallup measures the political leaning of each state, based on asking random people which party they identify or affiliate with. [Here's the data](http://www.gallup.com/poll/156437/heavily-democratic-states-concentrated-east.aspx#2) they collected from January-June of 2012:"
      ]
    },
    {
      "cell_type": "code",
      "metadata": {
        "id": "ZV0fxJZy6WTH",
        "outputId": "556ee4c5-fb80-4cf6-f8e7-b4d65a59ab68",
        "colab": {
          "base_uri": "https://localhost:8080/"
        }
      },
      "source": [
        "!wget https://raw.githubusercontent.com/UjwalKandi/HalfDayHacking/main/data/g12.csv"
      ],
      "execution_count": 42,
      "outputs": [
        {
          "output_type": "stream",
          "text": [
            "--2020-12-26 07:19:11--  https://raw.githubusercontent.com/UjwalKandi/HalfDayHacking/main/data/g12.csv\n",
            "Resolving raw.githubusercontent.com (raw.githubusercontent.com)... 151.101.0.133, 151.101.64.133, 151.101.128.133, ...\n",
            "Connecting to raw.githubusercontent.com (raw.githubusercontent.com)|151.101.0.133|:443... connected.\n",
            "HTTP request sent, awaiting response... 200 OK\n",
            "Length: 1537 (1.5K) [text/plain]\n",
            "Saving to: ‘g12.csv.1’\n",
            "\n",
            "g12.csv.1           100%[===================>]   1.50K  --.-KB/s    in 0s      \n",
            "\n",
            "2020-12-26 07:19:11 (24.6 MB/s) - ‘g12.csv.1’ saved [1537/1537]\n",
            "\n"
          ],
          "name": "stdout"
        }
      ]
    },
    {
      "cell_type": "code",
      "metadata": {
        "jupyter": {
          "outputs_hidden": false
        },
        "colab": {
          "base_uri": "https://localhost:8080/",
          "height": 225
        },
        "id": "HeikepfEqpMX",
        "outputId": "960165a1-e2ea-4158-c523-55767efca6d3"
      },
      "source": [
        "gallup_2012=pd.read_csv(\"g12.csv\").set_index('State')\n",
        "gallup_2012[\"Unknown\"] = 100 - gallup_2012.Democrat - gallup_2012.Republican\n",
        "gallup_2012.head()"
      ],
      "execution_count": 43,
      "outputs": [
        {
          "output_type": "execute_result",
          "data": {
            "text/html": [
              "<div>\n",
              "<style scoped>\n",
              "    .dataframe tbody tr th:only-of-type {\n",
              "        vertical-align: middle;\n",
              "    }\n",
              "\n",
              "    .dataframe tbody tr th {\n",
              "        vertical-align: top;\n",
              "    }\n",
              "\n",
              "    .dataframe thead th {\n",
              "        text-align: right;\n",
              "    }\n",
              "</style>\n",
              "<table border=\"1\" class=\"dataframe\">\n",
              "  <thead>\n",
              "    <tr style=\"text-align: right;\">\n",
              "      <th></th>\n",
              "      <th>Democrat</th>\n",
              "      <th>Republican</th>\n",
              "      <th>Dem_Adv</th>\n",
              "      <th>N</th>\n",
              "      <th>Unknown</th>\n",
              "    </tr>\n",
              "    <tr>\n",
              "      <th>State</th>\n",
              "      <th></th>\n",
              "      <th></th>\n",
              "      <th></th>\n",
              "      <th></th>\n",
              "      <th></th>\n",
              "    </tr>\n",
              "  </thead>\n",
              "  <tbody>\n",
              "    <tr>\n",
              "      <th>Alabama</th>\n",
              "      <td>36.0</td>\n",
              "      <td>49.6</td>\n",
              "      <td>-13.6</td>\n",
              "      <td>3197</td>\n",
              "      <td>14.4</td>\n",
              "    </tr>\n",
              "    <tr>\n",
              "      <th>Alaska</th>\n",
              "      <td>35.9</td>\n",
              "      <td>44.3</td>\n",
              "      <td>-8.4</td>\n",
              "      <td>402</td>\n",
              "      <td>19.8</td>\n",
              "    </tr>\n",
              "    <tr>\n",
              "      <th>Arizona</th>\n",
              "      <td>39.8</td>\n",
              "      <td>47.3</td>\n",
              "      <td>-7.5</td>\n",
              "      <td>4325</td>\n",
              "      <td>12.9</td>\n",
              "    </tr>\n",
              "    <tr>\n",
              "      <th>Arkansas</th>\n",
              "      <td>41.5</td>\n",
              "      <td>40.8</td>\n",
              "      <td>0.7</td>\n",
              "      <td>2071</td>\n",
              "      <td>17.7</td>\n",
              "    </tr>\n",
              "    <tr>\n",
              "      <th>California</th>\n",
              "      <td>48.3</td>\n",
              "      <td>34.6</td>\n",
              "      <td>13.7</td>\n",
              "      <td>16197</td>\n",
              "      <td>17.1</td>\n",
              "    </tr>\n",
              "  </tbody>\n",
              "</table>\n",
              "</div>"
            ],
            "text/plain": [
              "            Democrat  Republican  Dem_Adv      N  Unknown\n",
              "State                                                    \n",
              "Alabama         36.0        49.6    -13.6   3197     14.4\n",
              "Alaska          35.9        44.3     -8.4    402     19.8\n",
              "Arizona         39.8        47.3     -7.5   4325     12.9\n",
              "Arkansas        41.5        40.8      0.7   2071     17.7\n",
              "California      48.3        34.6     13.7  16197     17.1"
            ]
          },
          "metadata": {
            "tags": []
          },
          "execution_count": 43
        }
      ]
    },
    {
      "cell_type": "markdown",
      "metadata": {
        "id": "xIYI3tadqpMX"
      },
      "source": [
        "Each row lists a state, the percent of surveyed individuals who identify as Democrat/Republican, the percent whose identification is unknown or who haven't made an affiliation yet, the margin between Democrats and Republicans (`Dem_Adv`: the percentage identifying as Democrats minus the percentage identifying as Republicans), and the number `N` of people surveyed.\n",
        "\n",
        "### QUESTION 2\n",
        "\n",
        "This survey can be used to predict the outcome of each State's election. The simplest forecast model assigns 100% probability that the state will vote for the majority party.  *Implement this simple forecast*."
      ]
    },
    {
      "cell_type": "code",
      "metadata": {
        "jupyter": {
          "outputs_hidden": false
        },
        "id": "O1FTcu2JqpMX"
      },
      "source": [
        "\"\"\"\n",
        "Function\n",
        "--------\n",
        "simple_gallup_model\n",
        "\n",
        "A simple forecast that predicts an Obama (Democratic) victory with\n",
        "0 or 100% probability, depending on whether a state\n",
        "leans Republican or Democrat.\n",
        "\n",
        "Inputs\n",
        "------\n",
        "gallup : DataFrame\n",
        "    The Gallup dataframe above\n",
        "\n",
        "Returns\n",
        "-------\n",
        "model : DataFrame\n",
        "    A dataframe with the following column\n",
        "     * Obama: probability that the state votes for Obama. All values should be 0 or 1\n",
        "    model.index should be set to gallup.index (that is, it should be indexed by state name)\n",
        "    \n",
        "Examples\n",
        "---------\n",
        ">>> simple_gallup_model(gallup_2012).ix['Florida']\n",
        "Obama    1\n",
        "Name: Florida, dtype: float64\n",
        ">>> simple_gallup_model(gallup_2012).ix['Arizona']\n",
        "Obama    0\n",
        "Name: Arizona, dtype: float64\n",
        "\"\"\"\n",
        "\n",
        "# your code here\n",
        "def simple_gallup_model(gallup):\n",
        "  result=(gallup.Dem_Adv>0)*1\n",
        "  result_final= result.to_frame()\n",
        "  result_final.rename(columns={'Dem_Adv':'Obama'}, inplace=True)\n",
        "  return result_final"
      ],
      "execution_count": 53,
      "outputs": []
    },
    {
      "cell_type": "markdown",
      "metadata": {
        "id": "kcnGHlGYqpMX"
      },
      "source": [
        "Now, we run the simulation with this model, and plot it."
      ]
    },
    {
      "cell_type": "code",
      "metadata": {
        "colab": {
          "base_uri": "https://localhost:8080/",
          "height": 225
        },
        "id": "R9je8dLcqpMY",
        "outputId": "3700b69d-d520-41b5-e69d-fe3f84ef57f0"
      },
      "source": [
        "predictwise.head()"
      ],
      "execution_count": 47,
      "outputs": [
        {
          "output_type": "execute_result",
          "data": {
            "text/html": [
              "<div>\n",
              "<style scoped>\n",
              "    .dataframe tbody tr th:only-of-type {\n",
              "        vertical-align: middle;\n",
              "    }\n",
              "\n",
              "    .dataframe tbody tr th {\n",
              "        vertical-align: top;\n",
              "    }\n",
              "\n",
              "    .dataframe thead th {\n",
              "        text-align: right;\n",
              "    }\n",
              "</style>\n",
              "<table border=\"1\" class=\"dataframe\">\n",
              "  <thead>\n",
              "    <tr style=\"text-align: right;\">\n",
              "      <th></th>\n",
              "      <th>Obama</th>\n",
              "      <th>Romney</th>\n",
              "      <th>Votes</th>\n",
              "    </tr>\n",
              "    <tr>\n",
              "      <th>States</th>\n",
              "      <th></th>\n",
              "      <th></th>\n",
              "      <th></th>\n",
              "    </tr>\n",
              "  </thead>\n",
              "  <tbody>\n",
              "    <tr>\n",
              "      <th>Alabama</th>\n",
              "      <td>0.000</td>\n",
              "      <td>1.000</td>\n",
              "      <td>9</td>\n",
              "    </tr>\n",
              "    <tr>\n",
              "      <th>Alaska</th>\n",
              "      <td>0.000</td>\n",
              "      <td>1.000</td>\n",
              "      <td>3</td>\n",
              "    </tr>\n",
              "    <tr>\n",
              "      <th>Arizona</th>\n",
              "      <td>0.062</td>\n",
              "      <td>0.938</td>\n",
              "      <td>11</td>\n",
              "    </tr>\n",
              "    <tr>\n",
              "      <th>Arkansas</th>\n",
              "      <td>0.000</td>\n",
              "      <td>1.000</td>\n",
              "      <td>6</td>\n",
              "    </tr>\n",
              "    <tr>\n",
              "      <th>California</th>\n",
              "      <td>1.000</td>\n",
              "      <td>0.000</td>\n",
              "      <td>55</td>\n",
              "    </tr>\n",
              "  </tbody>\n",
              "</table>\n",
              "</div>"
            ],
            "text/plain": [
              "            Obama  Romney  Votes\n",
              "States                          \n",
              "Alabama     0.000   1.000      9\n",
              "Alaska      0.000   1.000      3\n",
              "Arizona     0.062   0.938     11\n",
              "Arkansas    0.000   1.000      6\n",
              "California  1.000   0.000     55"
            ]
          },
          "metadata": {
            "tags": []
          },
          "execution_count": 47
        }
      ]
    },
    {
      "cell_type": "code",
      "metadata": {
        "jupyter": {
          "outputs_hidden": false
        },
        "colab": {
          "base_uri": "https://localhost:8080/",
          "height": 404
        },
        "id": "1Gv8XrFVqpMY",
        "outputId": "3f729bcc-6626-4454-ea61-21aed7356997"
      },
      "source": [
        "model = simple_gallup_model(gallup_2012)\n",
        "model = model.join(predictwise[['Votes']])\n",
        "prediction = simulate_election(model, 10000)\n",
        "\n",
        "plot_simulation(prediction)"
      ],
      "execution_count": 54,
      "outputs": [
        {
          "output_type": "display_data",
          "data": {
            "image/png": "[encoded data removed]",
            "text/plain": [
              "<Figure size 864x432 with 1 Axes>"
            ]
          },
          "metadata": {
            "tags": [],
            "needs_background": "light"
          }
        }
      ]
    },
    {
      "cell_type": "markdown",
      "metadata": {
        "id": "ABRE7WWoqpMY"
      },
      "source": [
        "## PART 3:  Adding Polling Uncertainty to the Predictive Model\n",
        "\n",
        "The model above is brittle -- it includes no accounting for uncertainty, and thus makes predictions with 100% confidence. This is clearly wrong -- there are numerous sources of uncertainty in estimating election outcomes from a poll of affiliations. \n",
        "\n",
        "The most obvious source of error in the Gallup data is the finite sample size -- Gallup did not poll *everybody* in America, and thus the party affilitions are subject to sampling errors. How much uncertainty does this introduce?\n",
        "\n",
        "On their [webpage](http://www.gallup.com/poll/156437/heavily-democratic-states-concentrated-east.aspx#2) discussing these data, Gallup notes that the sampling error for the states is between 3 and 6%, with it being 3% for most states. (The calculation of the sampling error itself is an exercise in statistics. Its fun to think of how you could arrive at the sampling error if it was not given to you. One way to do it would be to assume this was a two-choice situation and use binomial sampling error for the non-unknown answers, and further model the error for those who answered 'Unknown'.)\n",
        "\n",
        "This is indeed done even in direct polls just before the election. There too you cant ask everyone and mustworry about sampling.\n",
        "\n",
        "### QUESTION 3:\n",
        "\n",
        "Use Gallup's estimate of 3% to build a Gallup model with some uncertainty. Assume that the `Dem_Adv` column represents the mean of a Gaussian, whose standard deviation is 3%. Build the model in the function `uncertain_gallup_model`. *Return a forecast where the probability of an Obama victory is given by the probability that a sample from the `Dem_Adv` Gaussian is positive.*\n",
        "\n",
        "**Hint**\n",
        "The probability that a sample from a Gaussian with mean $\\mu$ and standard deviation $\\sigma$ exceeds a threhold $z$ can be found using the the Cumulative Distribution Function of a Gaussian:\n",
        "\n",
        "$$\n",
        "CDF(z) = \\frac1{2}\\left(1 + {\\rm erf}\\left(\\frac{z - \\mu}{\\sqrt{2 \\sigma^2}}\\right)\\right) \n",
        "$$\n"
      ]
    },
    {
      "cell_type": "code",
      "metadata": {
        "id": "Sm4SrZtoAL8c"
      },
      "source": [
        "from scipy.stats import norm"
      ],
      "execution_count": 45,
      "outputs": []
    },
    {
      "cell_type": "code",
      "metadata": {
        "jupyter": {
          "outputs_hidden": false
        },
        "id": "-YqyHHmmqpMY"
      },
      "source": [
        "\"\"\"\n",
        "Function\n",
        "--------\n",
        "uncertain_gallup_model\n",
        "\n",
        "A forecast that predicts an Obama (Democratic) victory if the random variable drawn\n",
        "from a Gaussian with mean Dem_Adv and standard deviation 3% is >0\n",
        "\n",
        "Inputs\n",
        "------\n",
        "gallup : DataFrame\n",
        "    The Gallup dataframe above\n",
        "\n",
        "Returns\n",
        "-------\n",
        "model : DataFrame\n",
        "    A dataframe with the following column\n",
        "     * Obama: probability that the state votes for Obama.\n",
        "    model.index should be set to gallup.index (that is, it should be indexed by state name)\n",
        "\"\"\"\n",
        "# your code here\n",
        "def uncertain_gallup_model(gallup):\n",
        "  sigma=3\n",
        "  prob = norm.sf(0, gallup.Dem_Adv, sigma)\n",
        "  return pd.DataFrame(dict(Obama=prob), index=gallup.index)"
      ],
      "execution_count": 61,
      "outputs": []
    },
    {
      "cell_type": "code",
      "metadata": {
        "id": "h4-kCojQqpMZ"
      },
      "source": [
        "model = uncertain_gallup_model(gallup_2012)\n",
        "model = model.join(predictwise[['Votes']])"
      ],
      "execution_count": 62,
      "outputs": []
    },
    {
      "cell_type": "code",
      "metadata": {
        "colab": {
          "base_uri": "https://localhost:8080/",
          "height": 404
        },
        "id": "2oGrmLUZqpMZ",
        "outputId": "15e72390-fc18-4825-caf6-ffd13700a20e"
      },
      "source": [
        "prediction = simulate_election(model, 10000)\n",
        "plot_simulation(prediction)"
      ],
      "execution_count": 63,
      "outputs": [
        {
          "output_type": "display_data",
          "data": {
            "image/png": "[encoded data removed]",
            "text/plain": [
              "<Figure size 864x432 with 1 Axes>"
            ]
          },
          "metadata": {
            "tags": [],
            "needs_background": "light"
          }
        }
      ]
    }
  ]
}